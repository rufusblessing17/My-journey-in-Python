{
  "cells": [
    {
      "cell_type": "markdown",
      "metadata": {
        "id": "view-in-github",
        "colab_type": "text"
      },
      "source": [
        "<a href=\"https://colab.research.google.com/github/rufusblessing17/My-journey-in-Python/blob/main/chapter_appendix-tools-for-deep-learning/jupyter.ipynb\" target=\"_parent\"><img src=\"https://colab.research.google.com/assets/colab-badge.svg\" alt=\"Open In Colab\"/></a>"
      ]
    },
    {
      "cell_type": "markdown",
      "source": [
        "**Auction program**"
      ],
      "metadata": {
        "id": "MRnumWBze5cc"
      },
      "id": "MRnumWBze5cc"
    },
    {
      "cell_type": "code",
      "source": [
        "def find_highest_bidder(bidding_dictionary):\n",
        "  highest_bid = 0\n",
        "  winner = \"\"\n",
        "  for bidder, bid_amount in bidding_dictionary.items():\n",
        "    if bid_amount > highest_bid:\n",
        "      highest_bid = bid_amount\n",
        "      winner = bidder\n",
        "  print(f\"The winner is {winner} with a bid of ${highest_bid}\")\n",
        "\n",
        "\n",
        "bids={}\n",
        "continue_bidding=True\n",
        "while continue_bidding:\n",
        "  name=input(\"What is your name?:\")\n",
        "  price=int(input(\"What is your bid:$\"))\n",
        "  bids[name]=price\n",
        "  should_continue=input(\"Are there any other bidders? Type 'yes' or 'no'.\\n\").lower()\n",
        "  if should_continue==\"no\":\n",
        "    continue_bidding=False\n",
        "    find_highest_bidder(bids)\n",
        "  elif should_continue==\"yes\":\n",
        "    # Renamed the variable to avoid shadowing the built-in print function\n",
        "    print(\"\\n\" * 2)"
      ],
      "metadata": {
        "id": "ojLEk4kKdflq",
        "outputId": "55515207-c8cc-4247-f3cd-edb1c993aaf2",
        "colab": {
          "base_uri": "https://localhost:8080/"
        }
      },
      "id": "ojLEk4kKdflq",
      "execution_count": 3,
      "outputs": [
        {
          "output_type": "stream",
          "name": "stdout",
          "text": [
            "What is your name?:rufus\n",
            "What is your bid:$100\n",
            "Are there any other bidders? Type 'yes' or 'no'.\n",
            "yes\n",
            "\n",
            "\n",
            "\n",
            "What is your name?:marudhu\n",
            "What is your bid:$200\n",
            "Are there any other bidders? Type 'yes' or 'no'.\n",
            "rufus\n",
            "What is your name?:rufus\n",
            "What is your bid:$500\n",
            "Are there any other bidders? Type 'yes' or 'no'.\n",
            "no\n",
            "The winner is rufus with a bid of $500\n"
          ]
        }
      ]
    },
    {
      "cell_type": "code",
      "source": [],
      "metadata": {
        "id": "ZUTWyOPrd9xN"
      },
      "id": "ZUTWyOPrd9xN",
      "execution_count": 3,
      "outputs": []
    }
  ],
  "metadata": {
    "kernelspec": {
      "display_name": "Python 3",
      "name": "python3"
    },
    "language_info": {
      "name": "python"
    },
    "required_libs": [],
    "colab": {
      "provenance": [],
      "include_colab_link": true
    }
  },
  "nbformat": 4,
  "nbformat_minor": 5
}