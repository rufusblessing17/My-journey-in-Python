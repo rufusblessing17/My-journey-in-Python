{
  "nbformat": 4,
  "nbformat_minor": 0,
  "metadata": {
    "colab": {
      "provenance": [],
      "authorship_tag": "ABX9TyMiAsWn2f8rlWET0OrspIcc",
      "include_colab_link": true
    },
    "kernelspec": {
      "name": "python3",
      "display_name": "Python 3"
    },
    "language_info": {
      "name": "python"
    }
  },
  "cells": [
    {
      "cell_type": "markdown",
      "metadata": {
        "id": "view-in-github",
        "colab_type": "text"
      },
      "source": [
        "<a href=\"https://colab.research.google.com/github/rufusblessing17/My-journey-in-Python/blob/main/Calculator.ipynb\" target=\"_parent\"><img src=\"https://colab.research.google.com/assets/colab-badge.svg\" alt=\"Open In Colab\"/></a>"
      ]
    },
    {
      "cell_type": "code",
      "execution_count": null,
      "metadata": {
        "colab": {
          "base_uri": "https://localhost:8080/"
        },
        "id": "-k1yKBt7FB_L",
        "outputId": "e0dba22b-63ca-4256-bbae-b9a26d1edcbb"
      },
      "outputs": [
        {
          "output_type": "stream",
          "name": "stdout",
          "text": [
            "What is the first number:5\n",
            "+\n",
            "-\n",
            "*\n",
            "/\n",
            "%\n",
            "pick an operation:+\n",
            "What is the second number:5\n",
            "5.0 + 5.0=10.0\n",
            "Type 'y' to continue calculating with10.0,or type 'n' to repeat the calculator:y\n",
            "+\n",
            "-\n",
            "*\n",
            "/\n",
            "%\n",
            "pick an operation:*\n",
            "What is the second number:2\n",
            "10.0 * 2.0=20.0\n",
            "Type 'y' to continue calculating with20.0,or type 'n' to repeat the calculator:y\n",
            "+\n",
            "-\n",
            "*\n",
            "/\n",
            "%\n",
            "pick an operation:/\n",
            "What is the second number:2\n",
            "20.0 / 2.0=10.0\n",
            "Type 'y' to continue calculating with10.0,or type 'n' to repeat the calculator:%\n",
            "\n",
            "\n",
            "\n",
            "\n",
            "\n",
            "\n"
          ]
        }
      ],
      "source": [
        "def add(n1,n2):\n",
        "    return n1+n2\n",
        "def sub(n1,n2):\n",
        "    return n1-n2\n",
        "def mul(n1,n2):\n",
        "    return n1*n2\n",
        "def div(n1,n2):\n",
        "    return n1/n2\n",
        "def mod(n1,n2):\n",
        "    return n1%n2\n",
        "operation={\n",
        "    \"+\":add,\n",
        "    \"-\":sub,\n",
        "    \"*\":mul,\n",
        "    \"/\":div,\n",
        "    \"%\":mod\n",
        "}\n",
        "def calculator():\n",
        "    should_accumulate=True\n",
        "    num1=float(input(\"What is the first number:\"))\n",
        "    while should_accumulate:\n",
        "        for symbol in operation:\n",
        "            print(symbol)\n",
        "        operation_symbol=input(\"pick an operation:\")\n",
        "        num2=float(input(\"What is the second number:\"))\n",
        "        answer=operation[operation_symbol](num1,num2)\n",
        "        print(f\"{num1} {operation_symbol} {num2}={answer}\")\n",
        "\n",
        "        choice=input(f\"Type 'y' to continue calculating with{answer},or type 'n' to repeat the calculator:\")\n",
        "\n",
        "        if choice==\"y\":\n",
        "            num1= answer\n",
        "        else:\n",
        "            should_accumulate=False\n",
        "            print(\"\\n\"*5)\n",
        "            calculator()\n",
        "\n",
        "\n",
        "calculator()"
      ]
    }
  ]
}